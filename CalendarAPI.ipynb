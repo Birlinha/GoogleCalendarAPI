{
 "cells": [
  {
   "cell_type": "code",
   "execution_count": null,
   "metadata": {},
   "outputs": [],
   "source": [
    "# Descomente essa celula caso nunca tenha rodado antes\n",
    "# Depois, reinicie o Kernel\n",
    "#\n",
    "# pip install -r requirements.txt"
   ]
  },
  {
   "cell_type": "code",
   "execution_count": 1,
   "metadata": {},
   "outputs": [
    {
     "name": "stdout",
     "output_type": "stream",
     "text": [
      "Getting the upcoming 10 events\n",
      "2021-04-23T09:00:00-03:00 Omena Seguros\n",
      "2021-04-26T09:00:00-03:00 Omena Seguros\n",
      "2021-04-27T09:00:00-03:00 Omena Seguros\n",
      "2021-04-28T09:00:00-03:00 Omena Seguros\n",
      "2021-04-29T09:00:00-03:00 Omena Seguros\n",
      "2021-04-30T09:00:00-03:00 Omena Seguros\n",
      "2021-05-03T09:00:00-03:00 Omena Seguros\n",
      "2021-05-04T09:00:00-03:00 Omena Seguros\n",
      "2021-05-05T09:00:00-03:00 Omena Seguros\n",
      "2021-05-06T09:00:00-03:00 Omena Seguros\n"
     ]
    }
   ],
   "source": [
    "!python quickstart.py"
   ]
  },
  {
   "cell_type": "code",
   "execution_count": null,
   "metadata": {},
   "outputs": [],
   "source": []
  },
  {
   "cell_type": "code",
   "execution_count": null,
   "metadata": {},
   "outputs": [],
   "source": []
  }
 ],
 "metadata": {
  "kernelspec": {
   "display_name": "Python 3",
   "language": "python",
   "name": "python3"
  },
  "language_info": {
   "codemirror_mode": {
    "name": "ipython",
    "version": 3
   },
   "file_extension": ".py",
   "mimetype": "text/x-python",
   "name": "python",
   "nbconvert_exporter": "python",
   "pygments_lexer": "ipython3",
   "version": "3.7.6"
  }
 },
 "nbformat": 4,
 "nbformat_minor": 4
}
